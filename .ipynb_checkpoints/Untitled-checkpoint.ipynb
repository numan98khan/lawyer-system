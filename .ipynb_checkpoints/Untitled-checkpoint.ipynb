{
 "cells": [
  {
   "cell_type": "code",
   "execution_count": 1,
   "id": "05d29f67",
   "metadata": {},
   "outputs": [],
   "source": [
    "import timeit\n",
    "import random"
   ]
  },
  {
   "cell_type": "code",
   "execution_count": 2,
   "id": "8043a95b",
   "metadata": {},
   "outputs": [],
   "source": [
    "class graph:\n",
    "  def __init__(self):\n",
    "    self.vertices = {}\n",
    "    self.edges = []\n",
    "\n",
    "  def createNetwork(self):\n",
    "    #ask user for input\n",
    "    #synthetic data\n",
    "\n",
    "    #file reading real data\n",
    "    #ask user for filename\n",
    "    with open(\"lastfm.nodes\") as file:\n",
    "      for line in file:\n",
    "        (ID, username) = line.split('\\t')\n",
    "        self.vertices[ID]=username\n",
    "    print(self.vertices)"
   ]
  },
  {
   "cell_type": "code",
   "execution_count": 3,
   "id": "a3998977",
   "metadata": {},
   "outputs": [],
   "source": [
    "g = graph()"
   ]
  },
  {
   "cell_type": "code",
   "execution_count": 6,
   "id": "cd4e1dd0",
   "metadata": {},
   "outputs": [
    {
     "name": "stderr",
     "output_type": "stream",
     "text": [
      "IOPub data rate exceeded.\n",
      "The notebook server will temporarily stop sending output\n",
      "to the client in order to avoid crashing it.\n",
      "To change this limit, set the config variable\n",
      "`--NotebookApp.iopub_data_rate_limit`.\n",
      "\n",
      "Current values:\n",
      "NotebookApp.iopub_data_rate_limit=1000000.0 (bytes/sec)\n",
      "NotebookApp.rate_limit_window=3.0 (secs)\n",
      "\n"
     ]
    }
   ],
   "source": [
    "g.createNetwork()"
   ]
  },
  {
   "cell_type": "code",
   "execution_count": null,
   "id": "125a4a1b",
   "metadata": {},
   "outputs": [],
   "source": []
  }
 ],
 "metadata": {
  "kernelspec": {
   "display_name": "Python 3",
   "language": "python",
   "name": "python3"
  },
  "language_info": {
   "codemirror_mode": {
    "name": "ipython",
    "version": 3
   },
   "file_extension": ".py",
   "mimetype": "text/x-python",
   "name": "python",
   "nbconvert_exporter": "python",
   "pygments_lexer": "ipython3",
   "version": "3.7.4"
  }
 },
 "nbformat": 4,
 "nbformat_minor": 5
}
